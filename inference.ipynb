{
 "cells": [
  {
   "cell_type": "code",
   "execution_count": 1,
   "metadata": {},
   "outputs": [
    {
     "name": "stderr",
     "output_type": "stream",
     "text": [
      "/home/sarim.hashmi/anaconda3/envs/llm/lib/python3.10/site-packages/tqdm/auto.py:21: TqdmWarning: IProgress not found. Please update jupyter and ipywidgets. See https://ipywidgets.readthedocs.io/en/stable/user_install.html\n",
      "  from .autonotebook import tqdm as notebook_tqdm\n",
      "/home/sarim.hashmi/anaconda3/envs/llm/lib/python3.10/site-packages/transformers/utils/generic.py:441: UserWarning: torch.utils._pytree._register_pytree_node is deprecated. Please use torch.utils._pytree.register_pytree_node instead.\n",
      "  _torch_pytree._register_pytree_node(\n",
      "/home/sarim.hashmi/anaconda3/envs/llm/lib/python3.10/site-packages/huggingface_hub/file_download.py:1150: FutureWarning: `resume_download` is deprecated and will be removed in version 1.0.0. Downloads always resume when possible. If you want to force a new download, use `force_download=True`.\n",
      "  warnings.warn(\n",
      "/home/sarim.hashmi/anaconda3/envs/llm/lib/python3.10/site-packages/transformers/utils/generic.py:309: UserWarning: torch.utils._pytree._register_pytree_node is deprecated. Please use torch.utils._pytree.register_pytree_node instead.\n",
      "  _torch_pytree._register_pytree_node(\n",
      "/home/sarim.hashmi/anaconda3/envs/llm/lib/python3.10/site-packages/transformers/utils/generic.py:309: UserWarning: torch.utils._pytree._register_pytree_node is deprecated. Please use torch.utils._pytree.register_pytree_node instead.\n",
      "  _torch_pytree._register_pytree_node(\n",
      "/home/sarim.hashmi/anaconda3/envs/llm/lib/python3.10/site-packages/huggingface_hub/file_download.py:1150: FutureWarning: `resume_download` is deprecated and will be removed in version 1.0.0. Downloads always resume when possible. If you want to force a new download, use `force_download=True`.\n",
      "  warnings.warn(\n",
      "/home/sarim.hashmi/anaconda3/envs/llm/lib/python3.10/site-packages/transformers/generation/configuration_utils.py:381: UserWarning: `do_sample` is set to `False`. However, `temperature` is set to `0.0` -- this flag is only used in sample-based generation modes. You should set `do_sample=True` or unset `temperature`.\n",
      "  warnings.warn(\n",
      "Setting `pad_token_id` to `eos_token_id`:2 for open-end generation.\n"
     ]
    },
    {
     "name": "stdout",
     "output_type": "stream",
     "text": [
      "\n",
      "       if (a.length > 0) {\n",
      "           return;\n",
      "       }\n",
      "       // If the number of rows in a row is greater than or equal to 1, then we have to use the\n",
      "       // \"maximum\" method to get the maximum number of rows in that row.\n",
      "       int min = Math.min(a.length - 1, a.length);\n",
      "       for (int i = 0; i < a.length; i++) {\n",
      "           if (a[i] == b[i]) {\n",
      "               return min;\n",
      "           }\n",
      "      \n"
     ]
    }
   ],
   "source": [
    "import transformers\n",
    "from transformers import AutoModelForCausalLM , AutoTokenizer\n",
    "import torch\n",
    "from transformers import TextStreamer\n",
    "model_path_or_name = \"upstage/TinySolar-248m-4k\"\n",
    "\n",
    "tiny_general_model = AutoModelForCausalLM.from_pretrained(\n",
    "    model_path_or_name,\n",
    "    device_map=\"auto\", # change to auto if you have access to a GPU\n",
    "    torch_dtype=torch.bfloat16\n",
    ")\n",
    "tiny_general_tokenizer = AutoTokenizer.from_pretrained(model_path_or_name)\n",
    "\n",
    "prompt = \"max(a,b)\"\n",
    "\n",
    "inputs = tiny_general_tokenizer(prompt,return_tensors=\"pt\").to(tiny_general_model.device)\n",
    "streamer = TextStreamer(\n",
    "\n",
    "tiny_general_tokenizer , skip_prompt=True , skip_special_tokens = False\n",
    "\n",
    ")\n",
    "outputs = tiny_general_model.generate(\n",
    "    **inputs, \n",
    "    streamer=streamer, \n",
    "    use_cache=True, \n",
    "    max_new_tokens=128, \n",
    "    do_sample=False, \n",
    "    temperature=0.0, \n",
    "    repetition_penalty=1.1\n",
    ")"
   ]
  },
  {
   "cell_type": "code",
   "execution_count": 3,
   "metadata": {},
   "outputs": [
    {
     "name": "stderr",
     "output_type": "stream",
     "text": [
      "Setting `pad_token_id` to `eos_token_id`:2 for open-end generation.\n"
     ]
    },
    {
     "name": "stdout",
     "output_type": "stream",
     "text": [
      "\n",
      "\n",
      "\n",
      "### Response:def get_data(data):\n",
      "   \"\"\"\n",
      "   Returns the data structure of the given list.\n",
      "   \"\"\"\n",
      "   return [0, 1, 2, 3]\"\"\"\n",
      "\n",
      "## Response:def get_data(data):\n",
      "   \"\"\"\n",
      "   \"\"\"\n",
      "   \"\"\"\n",
      "   \"\"\"\n",
      "   \"\"\"\n",
      "   # Return the number of elements in the list\n",
      "   for i in range(len(data)):\n",
      "   \n",
      "   #print(getattr(data[i], ''))\n",
      "   # print(getattr(data[i]) + \" \")\n",
      "  \n"
     ]
    }
   ],
   "source": [
    "import transformers\n",
    "from transformers import AutoModelForCausalLM , AutoTokenizer\n",
    "import torch\n",
    "from transformers import TextStreamer\n",
    "model_path_or_name = \"/l/users/sarim.hashmi/NL702/NLP702-2024/solar_finetuned_finally/fine_tuned_tinysolar_codealpaca\"\n",
    "\n",
    "tiny_general_model = AutoModelForCausalLM.from_pretrained(\n",
    "    model_path_or_name,\n",
    "    device_map=\"auto\", # change to auto if you have access to a GPU\n",
    "    torch_dtype=torch.bfloat16\n",
    ")\n",
    "tiny_general_tokenizer = AutoTokenizer.from_pretrained(model_path_or_name)\n",
    "\n",
    "prompt = \"max(a,b,c)\"\n",
    "\n",
    "inputs = tiny_general_tokenizer(prompt,return_tensors=\"pt\").to(tiny_general_model.device)\n",
    "streamer = TextStreamer(\n",
    "\n",
    "tiny_general_tokenizer , skip_prompt=True , skip_special_tokens = False\n",
    "\n",
    ")\n",
    "outputs = tiny_general_model.generate(\n",
    "    **inputs, \n",
    "    streamer=streamer, \n",
    "    use_cache=True, \n",
    "    max_new_tokens=128, \n",
    "    do_sample=False, \n",
    "    temperature=0.0, \n",
    "    repetition_penalty=1.1\n",
    ")"
   ]
  },
  {
   "cell_type": "code",
   "execution_count": null,
   "metadata": {},
   "outputs": [],
   "source": []
  }
 ],
 "metadata": {
  "kernelspec": {
   "display_name": "llm",
   "language": "python",
   "name": "python3"
  },
  "language_info": {
   "codemirror_mode": {
    "name": "ipython",
    "version": 3
   },
   "file_extension": ".py",
   "mimetype": "text/x-python",
   "name": "python",
   "nbconvert_exporter": "python",
   "pygments_lexer": "ipython3",
   "version": "3.10.14"
  }
 },
 "nbformat": 4,
 "nbformat_minor": 2
}
